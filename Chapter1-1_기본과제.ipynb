{
 "cells": [
  {
   "metadata": {},
   "cell_type": "markdown",
   "source": [
    "# [기본과제] MNIST 분류(classification) 모델 구현\n",
    "\n",
    "- 풀고자 하는 문제는, 흑백 손글씨 이미지를 보고, 이 손글씨가 0 ~ 9 중 어떤 숫자인지를 맞추는 문제입니다.\n",
    "- 즉, 흑백 이미지를 0 ~ 9, 총 10개의 숫자로 분류를 해야합니다.\n",
    "- 그래서 MNIST 데이터셋을 input 으로 받아서 10 개의 숫자 중 1개로 분류해주는 Classification Model 을 만들어 보겠습니다.  \n"
   ],
   "id": "f0f02c337a0479b5"
  },
  {
   "metadata": {
    "ExecuteTime": {
     "end_time": "2024-09-19T07:23:56.760439Z",
     "start_time": "2024-09-19T07:23:55.854066Z"
    }
   },
   "cell_type": "code",
   "source": [
    "import numpy as np\n",
    "\n",
    "import torch\n",
    "import torch.nn as nn\n",
    "import torchvision\n",
    "import torchvision.transforms as transforms\n",
    "import torch.optim as optim\n",
    "\n",
    "from matplotlib import pyplot as plt"
   ],
   "id": "15115ec662e46ada",
   "outputs": [],
   "execution_count": 1
  },
  {
   "metadata": {
    "ExecuteTime": {
     "end_time": "2024-09-19T07:23:56.764922Z",
     "start_time": "2024-09-19T07:23:56.763248Z"
    }
   },
   "cell_type": "code",
   "source": [
    "DIR_ROOT_DATA = \"../data\"\n",
    "\n",
    "MNIST_BATCH_SIZE = 256\n",
    "MNIST_NUM_EPOCHS = 100\n",
    "MNIST_LEARNING_RATE = 0.001"
   ],
   "id": "445e786263b9b74b",
   "outputs": [],
   "execution_count": 2
  },
  {
   "metadata": {},
   "cell_type": "markdown",
   "source": [
    "## 편의 기능 함수\n",
    "- 사용 가능한 torch.device 가져오는 함수\n",
    "- 모델에 대해서, 정확도를 계산해주는 함수"
   ],
   "id": "764fa49c363b83c0"
  },
  {
   "metadata": {
    "ExecuteTime": {
     "end_time": "2024-09-19T07:23:56.844669Z",
     "start_time": "2024-09-19T07:23:56.841984Z"
    }
   },
   "cell_type": "code",
   "source": [
    "def get_device() -> torch.device:\n",
    "    \"\"\"\n",
    "    mps, cuda, cpu 순으로 사용 가능을 체크해서 반환\n",
    "    :return: 사용 가능한 pytorch device\n",
    "    \"\"\"\n",
    "    if torch.backends.mps.is_available():\n",
    "        return torch.device(\"mps\")\n",
    "    elif torch.cuda.is_available():\n",
    "        return torch.device(\"cuda\")\n",
    "    else:\n",
    "        return torch.device(\"cpu\")\n",
    "\n",
    "\n",
    "def calculate_accuracy(\n",
    "    device: torch.device, model: nn.Module, data_loader: torch.utils.data.DataLoader\n",
    ") -> float:\n",
    "    \"\"\"\n",
    "    model 에 대한 평가를 진행하여, 예측의 정확도를 계산\n",
    "    :return: 정확도\n",
    "    \"\"\"\n",
    "    total = 0\n",
    "    num_correctness = 0\n",
    "\n",
    "    model.eval()\n",
    "    with torch.no_grad():\n",
    "        for data in data_loader:\n",
    "            images, labels = data\n",
    "            inputs, labels = images.to(device), labels.to(device)\n",
    "\n",
    "            outputs = model(inputs)\n",
    "\n",
    "            total += labels.size(0)\n",
    "\n",
    "            predictions = torch.argmax(outputs, dim=1)\n",
    "            num_correctness += (predictions == labels).sum().item()\n",
    "    model.train()\n",
    "\n",
    "    return num_correctness / total"
   ],
   "id": "a870ca724316c357",
   "outputs": [],
   "execution_count": 3
  },
  {
   "metadata": {
    "ExecuteTime": {
     "end_time": "2024-09-19T07:23:56.862390Z",
     "start_time": "2024-09-19T07:23:56.848479Z"
    }
   },
   "cell_type": "code",
   "source": [
    "transform = transforms.ToTensor()\n",
    "\n",
    "mnist_train_set = torchvision.datasets.MNIST(\n",
    "    root=DIR_ROOT_DATA, train=True, download=True, transform=transform\n",
    ")\n",
    "mnist_train_loader = torch.utils.data.DataLoader(\n",
    "    mnist_train_set,\n",
    "    batch_size=MNIST_BATCH_SIZE,\n",
    "    shuffle=True,\n",
    "    num_workers=2,\n",
    "    pin_memory=True,\n",
    ")\n",
    "\n",
    "mnist_test_set = torchvision.datasets.MNIST(\n",
    "    root=DIR_ROOT_DATA, train=False, download=True, transform=transform\n",
    ")\n",
    "mnist_test_loader = torch.utils.data.DataLoader(\n",
    "    mnist_test_set, batch_size=MNIST_BATCH_SIZE, shuffle=False\n",
    ")"
   ],
   "id": "311850d39413b4fe",
   "outputs": [],
   "execution_count": 4
  },
  {
   "metadata": {},
   "cell_type": "markdown",
   "source": [
    "## MNIST 데이터셋\n",
    "- 0 ~ 9 까지의 숫자에 대한 손글씨 이미지로, 흑백 이미지\n",
    "- 다음은 데이터셋의 클래스이다.\n",
    "    - 레이블 0: 숫자 0\n",
    "    - 레이블 1: 숫자 1\n",
    "    - 레이블 2: 숫자 2\n",
    "    - 레이블 3: 숫자 3\n",
    "    - 레이블 4: 숫자 4\n",
    "    - 레이블 5: 숫자 5\n",
    "    - 레이블 6: 숫자 6\n",
    "    - 레이블 7: 숫자 7\n",
    "    - 레이블 8: 숫자 8\n",
    "    - 레이블 9: 숫자 9"
   ],
   "id": "3eb6d8d3ccf699d6"
  },
  {
   "metadata": {
    "ExecuteTime": {
     "end_time": "2024-09-19T07:23:56.927121Z",
     "start_time": "2024-09-19T07:23:56.866701Z"
    }
   },
   "cell_type": "code",
   "source": [
    "mnist_images, mnist_labels = next(iter(mnist_test_loader))\n",
    "print(\"mnist_images.shape:\", mnist_images.shape)\n",
    "\n",
    "print(\"label:\", mnist_labels[0].item())\n",
    "plt.imshow(transforms.ToPILImage()(mnist_images[0]), cmap=\"gray\")"
   ],
   "id": "fa9a1a0cdfc47ba6",
   "outputs": [
    {
     "name": "stdout",
     "output_type": "stream",
     "text": [
      "mnist_images.shape: torch.Size([256, 1, 28, 28])\n",
      "label: 7\n"
     ]
    },
    {
     "data": {
      "text/plain": [
       "<matplotlib.image.AxesImage at 0x123fbadd0>"
      ]
     },
     "execution_count": 5,
     "metadata": {},
     "output_type": "execute_result"
    },
    {
     "data": {
      "text/plain": [
       "<Figure size 640x480 with 1 Axes>"
      ],
      "image/png": "[encoded data removed]"
     },
     "metadata": {},
     "output_type": "display_data"
    }
   ],
   "execution_count": 5
  },
  {
   "metadata": {},
   "cell_type": "markdown",
   "source": "## MNIST 데이터를 분류하는 모델 정의",
   "id": "768598d5d22c595d"
  },
  {
   "metadata": {
    "ExecuteTime": {
     "end_time": "2024-09-19T07:23:56.937226Z",
     "start_time": "2024-09-19T07:23:56.934584Z"
    }
   },
   "cell_type": "code",
   "source": [
    "class MNISTClassificationModel(nn.Module):\n",
    "    def __init__(self):\n",
    "        super(MNISTClassificationModel, self).__init__()\n",
    "\n",
    "        input_dim = 1 * 28 * 28  # input dimension 은 이미지의 크기\n",
    "        hidden_dim = 1024\n",
    "        num_classes = 10  # output dimension 은 0 ~ 9 까지의 분류\n",
    "\n",
    "        self.layer1 = nn.Linear(input_dim, hidden_dim)\n",
    "        self.layer2 = nn.Linear(hidden_dim, hidden_dim)\n",
    "        self.layer3 = nn.Linear(hidden_dim, num_classes)\n",
    "\n",
    "        self.activation = nn.ReLU()\n",
    "\n",
    "    def forward(self, x):\n",
    "        # x.shape: (batch_size, 1, 28, 28)\n",
    "        x = torch.flatten(x, start_dim=1)  # x.shape: (batch_size, 1* 28 * 28)\n",
    "        x = self.activation(self.layer1(x))  # x.shape: (batch_size, hidden_dim)\n",
    "        x = self.activation(self.layer2(x))  # x.shape: (batch_size, hidden_dim)\n",
    "        x = self.layer3(x)  # x.shape: (batch_size, 10)\n",
    "        return x"
   ],
   "id": "fec71b1c29edaa0a",
   "outputs": [],
   "execution_count": 6
  },
  {
   "metadata": {
    "ExecuteTime": {
     "end_time": "2024-09-19T07:23:56.952660Z",
     "start_time": "2024-09-19T07:23:56.942753Z"
    }
   },
   "cell_type": "code",
   "source": [
    "device = get_device()\n",
    "device"
   ],
   "id": "5e362bace97aa142",
   "outputs": [
    {
     "data": {
      "text/plain": [
       "device(type='mps')"
      ]
     },
     "execution_count": 7,
     "metadata": {},
     "output_type": "execute_result"
    }
   ],
   "execution_count": 7
  },
  {
   "metadata": {
    "ExecuteTime": {
     "end_time": "2024-09-19T07:23:56.972527Z",
     "start_time": "2024-09-19T07:23:56.958374Z"
    }
   },
   "cell_type": "code",
   "source": [
    "mnist_model = MNISTClassificationModel().to(device)\n",
    "mnist_model"
   ],
   "id": "c80ef2f90ac55fb4",
   "outputs": [
    {
     "data": {
      "text/plain": [
       "MNISTClassificationModel(\n",
       "  (layer1): Linear(in_features=784, out_features=1024, bias=True)\n",
       "  (layer2): Linear(in_features=1024, out_features=1024, bias=True)\n",
       "  (layer3): Linear(in_features=1024, out_features=10, bias=True)\n",
       "  (activation): ReLU()\n",
       ")"
      ]
     },
     "execution_count": 8,
     "metadata": {},
     "output_type": "execute_result"
    }
   ],
   "execution_count": 8
  },
  {
   "metadata": {},
   "cell_type": "markdown",
   "source": [
    "## Cross Entropy Loss 함수\n",
    "- Cross Entropy Loss (교차 엔트로피 손실)는 분류 문제에서 널리 사용되는 손실 함수\n",
    "- 이 함수는 모델의 예측 확률 분포와 실제 레이블의 확률 분포 간의 차이를 측정\n",
    "\n",
    "### 수식\n",
    "$$L = -\\sum_{i=1}^{C} y_i \\log(p_i)$$\n",
    "- $C$는 클래스의 수\n",
    "- $y_i$는 실제 레이블 (원-핫 인코딩)\n",
    "- $p_i$는 클래스 $i$에 대한 모델의 예측 확률\n",
    "\n",
    "### MNIST 분류에서의 사용 이유\n",
    "- 확률적 해석 \n",
    "   - Cross Entropy Loss를 사용하면 모델의 출력을 확률로 해석할 수 있습니다.\n",
    "   - MNIST에서 각 숫자(0-9)에 대한 예측 확률을 직접적으로 얻을 수 있습니다.\n",
    "\n",
    "- 학습 효율성 \n",
    "   - 오차가 클수록 더 큰 페널티를 부여합니다.\n",
    "   - 이는 모델이 잘못된 예측에 대해 더 빠르게 학습하도록 유도합니다.\n",
    "\n",
    "- 다중 클래스 적합성 \n",
    "   - MNIST는 10개의 클래스(0-9)를 가진 다중 클래스 문제입니다.\n",
    "   - Cross Entropy Loss는 다중 클래스 분류에 자연스럽게 적용됩니다.\n",
    "\n",
    "- 미분 가능성 \n",
    "   - 이 손실 함수는 연속적이고 미분 가능합니다.\n",
    "   - 이는 역전파 알고리즘을 사용한 신경망 학습에 필수적입니다.\n"
   ],
   "id": "5119645a676aaa05"
  },
  {
   "metadata": {
    "ExecuteTime": {
     "end_time": "2024-09-19T07:23:56.980670Z",
     "start_time": "2024-09-19T07:23:56.978418Z"
    }
   },
   "cell_type": "code",
   "source": [
    "# '손실 함수'를 'criterion'이라고 부르는 것은 PyTorch 의 관행\n",
    "# 단순히 '손실'을 넘어 '평가 기준'이라는 더 넓은 의미를 가짐\n",
    "# 이는 모델의 성능을 평가하고 최적화하는 기준이 됨\n",
    "mnist_criterion = nn.CrossEntropyLoss()\n",
    "mnist_criterion"
   ],
   "id": "df90e80cf40f9166",
   "outputs": [
    {
     "data": {
      "text/plain": [
       "CrossEntropyLoss()"
      ]
     },
     "execution_count": 9,
     "metadata": {},
     "output_type": "execute_result"
    }
   ],
   "execution_count": 9
  },
  {
   "metadata": {
    "ExecuteTime": {
     "end_time": "2024-09-19T07:23:56.988982Z",
     "start_time": "2024-09-19T07:23:56.986538Z"
    }
   },
   "cell_type": "code",
   "source": [
    "mnist_optimizer = optim.SGD(mnist_model.parameters(), lr=MNIST_LEARNING_RATE)\n",
    "mnist_optimizer"
   ],
   "id": "f8a6c99e06e1268",
   "outputs": [
    {
     "data": {
      "text/plain": [
       "SGD (\n",
       "Parameter Group 0\n",
       "    dampening: 0\n",
       "    differentiable: False\n",
       "    foreach: None\n",
       "    fused: None\n",
       "    lr: 0.001\n",
       "    maximize: False\n",
       "    momentum: 0\n",
       "    nesterov: False\n",
       "    weight_decay: 0\n",
       ")"
      ]
     },
     "execution_count": 10,
     "metadata": {},
     "output_type": "execute_result"
    }
   ],
   "execution_count": 10
  },
  {
   "metadata": {},
   "cell_type": "markdown",
   "source": [
    "## 학습\n",
    "- 매 epoch 마다의 모델을 가지고, train 데이터와 test 데이터에 대한 정확도 측정"
   ],
   "id": "386eac8821b94e3e"
  },
  {
   "metadata": {
    "ExecuteTime": {
     "end_time": "2024-09-19T07:29:32.038512Z",
     "start_time": "2024-09-19T07:23:56.996077Z"
    }
   },
   "cell_type": "code",
   "source": [
    "mnist_accuracies = np.zeros((2, MNIST_NUM_EPOCHS))  # training_accuracy, test_accuracy\n",
    "\n",
    "for epoch in range(MNIST_NUM_EPOCHS):\n",
    "    for data in mnist_train_loader:\n",
    "        mnist_optimizer.zero_grad()\n",
    "\n",
    "        images, labels = data\n",
    "        inputs, labels = images.to(device), labels.to(device)\n",
    "\n",
    "        outputs = mnist_model(inputs)  # logits 이 출력됨.\n",
    "\n",
    "        loss = mnist_criterion(\n",
    "            outputs, labels\n",
    "        )  # cross entropy 에는 나온 출력값(logits) 그대로 넣어준다.\n",
    "        loss.backward()\n",
    "\n",
    "        mnist_optimizer.step()\n",
    "\n",
    "    mnist_accuracies[0][epoch] = calculate_accuracy(\n",
    "        device, mnist_model, mnist_train_loader\n",
    "    )\n",
    "    mnist_accuracies[1][epoch] = calculate_accuracy(\n",
    "        device, mnist_model, mnist_test_loader\n",
    "    )\n",
    "\n",
    "    print(f\"Epoch {epoch + 1:3d}, Training Accuracy: {mnist_accuracies[0][epoch]:.5f}\")"
   ],
   "id": "c78d594fd8393b1a",
   "outputs": [
    {
     "name": "stdout",
     "output_type": "stream",
     "text": [
      "Epoch   1, Training Accuracy: 0.14430\n",
      "Epoch   2, Training Accuracy: 0.22190\n",
      "Epoch   3, Training Accuracy: 0.35168\n",
      "Epoch   4, Training Accuracy: 0.46183\n",
      "Epoch   5, Training Accuracy: 0.53535\n",
      "Epoch   6, Training Accuracy: 0.58775\n",
      "Epoch   7, Training Accuracy: 0.62493\n",
      "Epoch   8, Training Accuracy: 0.65072\n",
      "Epoch   9, Training Accuracy: 0.66923\n",
      "Epoch  10, Training Accuracy: 0.68358\n",
      "Epoch  11, Training Accuracy: 0.69483\n",
      "Epoch  12, Training Accuracy: 0.70680\n",
      "Epoch  13, Training Accuracy: 0.71637\n",
      "Epoch  14, Training Accuracy: 0.72470\n",
      "Epoch  15, Training Accuracy: 0.72990\n",
      "Epoch  16, Training Accuracy: 0.73483\n",
      "Epoch  17, Training Accuracy: 0.73810\n",
      "Epoch  18, Training Accuracy: 0.74328\n",
      "Epoch  19, Training Accuracy: 0.74825\n",
      "Epoch  20, Training Accuracy: 0.75470\n",
      "Epoch  21, Training Accuracy: 0.76223\n",
      "Epoch  22, Training Accuracy: 0.77085\n",
      "Epoch  23, Training Accuracy: 0.77937\n",
      "Epoch  24, Training Accuracy: 0.78607\n",
      "Epoch  25, Training Accuracy: 0.79360\n",
      "Epoch  26, Training Accuracy: 0.79987\n",
      "Epoch  27, Training Accuracy: 0.80555\n",
      "Epoch  28, Training Accuracy: 0.81187\n",
      "Epoch  29, Training Accuracy: 0.81743\n",
      "Epoch  30, Training Accuracy: 0.82217\n",
      "Epoch  31, Training Accuracy: 0.82570\n",
      "Epoch  32, Training Accuracy: 0.82918\n",
      "Epoch  33, Training Accuracy: 0.83395\n",
      "Epoch  34, Training Accuracy: 0.83663\n",
      "Epoch  35, Training Accuracy: 0.83900\n",
      "Epoch  36, Training Accuracy: 0.84347\n",
      "Epoch  37, Training Accuracy: 0.84577\n",
      "Epoch  38, Training Accuracy: 0.84872\n",
      "Epoch  39, Training Accuracy: 0.85050\n",
      "Epoch  40, Training Accuracy: 0.85292\n",
      "Epoch  41, Training Accuracy: 0.85538\n",
      "Epoch  42, Training Accuracy: 0.85728\n",
      "Epoch  43, Training Accuracy: 0.85970\n",
      "Epoch  44, Training Accuracy: 0.86150\n",
      "Epoch  45, Training Accuracy: 0.86372\n",
      "Epoch  46, Training Accuracy: 0.86510\n",
      "Epoch  47, Training Accuracy: 0.86600\n",
      "Epoch  48, Training Accuracy: 0.86820\n",
      "Epoch  49, Training Accuracy: 0.86945\n",
      "Epoch  50, Training Accuracy: 0.87085\n",
      "Epoch  51, Training Accuracy: 0.87218\n",
      "Epoch  52, Training Accuracy: 0.87377\n",
      "Epoch  53, Training Accuracy: 0.87487\n",
      "Epoch  54, Training Accuracy: 0.87618\n",
      "Epoch  55, Training Accuracy: 0.87707\n",
      "Epoch  56, Training Accuracy: 0.87807\n",
      "Epoch  57, Training Accuracy: 0.87918\n",
      "Epoch  58, Training Accuracy: 0.88002\n",
      "Epoch  59, Training Accuracy: 0.88118\n",
      "Epoch  60, Training Accuracy: 0.88188\n",
      "Epoch  61, Training Accuracy: 0.88277\n",
      "Epoch  62, Training Accuracy: 0.88372\n",
      "Epoch  63, Training Accuracy: 0.88442\n",
      "Epoch  64, Training Accuracy: 0.88523\n",
      "Epoch  65, Training Accuracy: 0.88573\n",
      "Epoch  66, Training Accuracy: 0.88620\n",
      "Epoch  67, Training Accuracy: 0.88705\n",
      "Epoch  68, Training Accuracy: 0.88762\n",
      "Epoch  69, Training Accuracy: 0.88852\n",
      "Epoch  70, Training Accuracy: 0.88913\n",
      "Epoch  71, Training Accuracy: 0.88965\n",
      "Epoch  72, Training Accuracy: 0.89025\n",
      "Epoch  73, Training Accuracy: 0.89060\n",
      "Epoch  74, Training Accuracy: 0.89117\n",
      "Epoch  75, Training Accuracy: 0.89177\n",
      "Epoch  76, Training Accuracy: 0.89227\n",
      "Epoch  77, Training Accuracy: 0.89255\n",
      "Epoch  78, Training Accuracy: 0.89310\n",
      "Epoch  79, Training Accuracy: 0.89350\n",
      "Epoch  80, Training Accuracy: 0.89400\n",
      "Epoch  81, Training Accuracy: 0.89438\n",
      "Epoch  82, Training Accuracy: 0.89450\n",
      "Epoch  83, Training Accuracy: 0.89520\n",
      "Epoch  84, Training Accuracy: 0.89523\n",
      "Epoch  85, Training Accuracy: 0.89600\n",
      "Epoch  86, Training Accuracy: 0.89623\n",
      "Epoch  87, Training Accuracy: 0.89652\n",
      "Epoch  88, Training Accuracy: 0.89690\n",
      "Epoch  89, Training Accuracy: 0.89752\n",
      "Epoch  90, Training Accuracy: 0.89750\n",
      "Epoch  91, Training Accuracy: 0.89810\n",
      "Epoch  92, Training Accuracy: 0.89885\n",
      "Epoch  93, Training Accuracy: 0.89890\n",
      "Epoch  94, Training Accuracy: 0.89952\n",
      "Epoch  95, Training Accuracy: 0.89958\n",
      "Epoch  96, Training Accuracy: 0.90018\n",
      "Epoch  97, Training Accuracy: 0.90027\n",
      "Epoch  98, Training Accuracy: 0.90053\n",
      "Epoch  99, Training Accuracy: 0.90078\n",
      "Epoch 100, Training Accuracy: 0.90123\n"
     ]
    }
   ],
   "execution_count": 11
  },
  {
   "metadata": {},
   "cell_type": "markdown",
   "source": "## 각 Epoch 별 모델에 대한 Accuracy 그래프",
   "id": "66ddeb0b627d4b90"
  },
  {
   "metadata": {
    "ExecuteTime": {
     "end_time": "2024-09-19T07:29:32.413538Z",
     "start_time": "2024-09-19T07:29:32.355082Z"
    }
   },
   "cell_type": "code",
   "source": [
    "plt.figure(figsize=(10, 8))\n",
    "\n",
    "x_axis = np.arange(MNIST_NUM_EPOCHS)\n",
    "plt.plot(x_axis, mnist_accuracies[0], label=\"MNIST Training Accuracy\")\n",
    "plt.plot(x_axis, mnist_accuracies[1], label=\"MNIST Test Accuracy\")\n",
    "\n",
    "plt.legend()\n",
    "\n",
    "plt.ylim([0, 1])\n",
    "plt.ylabel(\"Accuracy\")\n",
    "plt.xlabel(\"Epochs\")\n",
    "\n",
    "plt.show()"
   ],
   "id": "ee66d96a401646c6",
   "outputs": [
    {
     "data": {
      "text/plain": [
       "<Figure size 1000x800 with 1 Axes>"
      ],
      "image/png": "[encoded data removed]"
     },
     "metadata": {},
     "output_type": "display_data"
    }
   ],
   "execution_count": 12
  }
 ],
 "metadata": {
  "kernelspec": {
   "display_name": "Python 3",
   "language": "python",
   "name": "python3"
  },
  "language_info": {
   "codemirror_mode": {
    "name": "ipython",
    "version": 2
   },
   "file_extension": ".py",
   "mimetype": "text/x-python",
   "name": "python",
   "nbconvert_exporter": "python",
   "pygments_lexer": "ipython2",
   "version": "2.7.6"
  }
 },
 "nbformat": 4,
 "nbformat_minor": 5
}
